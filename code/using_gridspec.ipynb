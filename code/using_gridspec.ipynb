{
 "cells": [
  {
   "cell_type": "code",
   "execution_count": 1,
   "metadata": {},
   "outputs": [],
   "source": [
    "import sys\n",
    "import os\n",
    "\n",
    "module_path = os.path.abspath(os.path.join('..'))\n",
    "if module_path not in sys.path:\n",
    "    sys.path.append(module_path+\"\\\\hr_dashboard\\code\")\n",
    "\n",
    "import data_cleaning as dc\n",
    "import plots"
   ]
  },
  {
   "cell_type": "code",
   "execution_count": 7,
   "metadata": {},
   "outputs": [],
   "source": [
    "emps=dc.get_cleaned_emp_list(r'C:\\Users\\letti\\python_scripts\\hr_dashboard'\n",
    "                             '\\\\data\\output\\cleaned_cincy_emp_list.csv')"
   ]
  },
  {
   "cell_type": "code",
   "execution_count": 5,
   "metadata": {},
   "outputs": [
    {
     "name": "stdout",
     "output_type": "stream",
     "text": [
      "<class 'pandas.core.frame.DataFrame'>\n",
      "RangeIndex: 6304 entries, 0 to 6303\n",
      "Data columns (total 28 columns):\n",
      " #   Column          Non-Null Count  Dtype   \n",
      "---  ------          --------------  -----   \n",
      " 0   age_range       6304 non-null   category\n",
      " 1   name            6304 non-null   object  \n",
      " 2   sex             6304 non-null   object  \n",
      " 3   race            6304 non-null   object  \n",
      " 4   business_title  6304 non-null   object  \n",
      " 5   deptid          6304 non-null   int64   \n",
      " 6   jobcode         6304 non-null   object  \n",
      " 7   position_nbr    6304 non-null   int64   \n",
      " 8   location        6304 non-null   object  \n",
      " 9   job_entry_dt    6304 non-null   object  \n",
      " 10  paygroup        6304 non-null   object  \n",
      " 11  std_hours       6304 non-null   float64 \n",
      " 12  fte             6304 non-null   float64 \n",
      " 13  sal_admin_plan  6304 non-null   object  \n",
      " 14  grade           6304 non-null   int64   \n",
      " 15  step            6304 non-null   int64   \n",
      " 16  annual_rt       6304 non-null   float64 \n",
      " 17  eeo_job_group   5651 non-null   float64 \n",
      " 18  job_family      6299 non-null   object  \n",
      " 19  jobtitle        6304 non-null   object  \n",
      " 20  jobtitle_abbrv  6304 non-null   object  \n",
      " 21  deptname        6304 non-null   object  \n",
      " 22  deptname_abbrv  6304 non-null   object  \n",
      " 23  hire_date       6304 non-null   object  \n",
      " 24  eeo_job_class   6304 non-null   object  \n",
      " 25  paygroup_label  6304 non-null   object  \n",
      " 26  full_time       6304 non-null   object  \n",
      " 27  tenure          6304 non-null   float64 \n",
      "dtypes: category(1), float64(5), int64(4), object(18)\n",
      "memory usage: 1.3+ MB\n"
     ]
    }
   ],
   "source": [
    "emps.info()"
   ]
  },
  {
   "cell_type": "code",
   "execution_count": null,
   "metadata": {},
   "outputs": [],
   "source": []
  }
 ],
 "metadata": {
  "kernelspec": {
   "display_name": "Python 3",
   "language": "python",
   "name": "python3"
  },
  "language_info": {
   "codemirror_mode": {
    "name": "ipython",
    "version": 3
   },
   "file_extension": ".py",
   "mimetype": "text/x-python",
   "name": "python",
   "nbconvert_exporter": "python",
   "pygments_lexer": "ipython3",
   "version": "3.8.5"
  }
 },
 "nbformat": 4,
 "nbformat_minor": 4
}
